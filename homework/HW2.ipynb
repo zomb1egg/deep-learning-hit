{
 "cells": [
  {
   "cell_type": "markdown",
   "id": "e3f19443-dcc5-483e-ad2c-800081f5db16",
   "metadata": {},
   "source": [
    "# Homework #2: Simple Neural Network Implementation using Numpy"
   ]
  },
  {
   "cell_type": "markdown",
   "id": "704fb5c4-4f4e-41d5-adc9-95f97bb7950a",
   "metadata": {},
   "source": [
    "### Define the Sigmoid Function and its Derivative\n",
    "- Construct a function returning a sigmoid function:\n",
    "$ \\sigma(x) = \\frac{1}{1 + e^{-x}} $\n",
    "- Construct a function returning the derivative of a sigmoid function:\n",
    "$ \\frac{d\\sigma(x)}{dx} = \\sigma(x)(1 - \\sigma(x)) $"
   ]
  },
  {
   "cell_type": "code",
   "execution_count": 12,
   "id": "21263ba1",
   "metadata": {},
   "outputs": [],
   "source": [
    "# define imports, constants and data.\n",
    "import numpy as np\n",
    "\n",
    "NEURONS = 3\n",
    "LEANING_STEPS = 1000\n",
    "LEARNING_RATE = 0.1\n",
    "\n",
    "X = np.array([\n",
    "    [0, 0, 1],\n",
    "    [0, 1, 1],\n",
    "    [1, 0, 1],\n",
    "    [1, 1, 1]\n",
    "])\n",
    "\n",
    "y = np.array([\n",
    "    [0],\n",
    "    [0],\n",
    "    [1],\n",
    "    [1]\n",
    "])\n"
   ]
  },
  {
   "cell_type": "code",
   "execution_count": null,
   "id": "99ce0f23",
   "metadata": {},
   "outputs": [],
   "source": [
    "# define sigmoids\n",
    "def sigmoid(x):\n",
    "    return 1 / (1 + np.exp(-x))\n",
    "\n",
    "\n",
    "def sigmoid_derivative(x):\n",
    "    cached_sigmoid = sigmoid(x)\n",
    "    return cached_sigmoid * (1 - cached_sigmoid)"
   ]
  },
  {
   "attachments": {
    "nna-last-layer.png": {
     "image/png": "[encoded data removed]"
    }
   },
   "cell_type": "markdown",
   "id": "08594d28-1968-4ce6-bac7-4f42bed6ab41",
   "metadata": {},
   "source": [
    "### Initialize Weights\n",
    "Build an array of three weights (3x1 array – think why these dimensions!) and initialize their value randomly. (It is good practice to use weights with normal distribution of $ \\mu = 0 $ and  $ \\sigma = \\frac{1}{3}  $ )\n",
    "\n",
    "from the following depiction of our neural network it is visible why we need a 3x1 weight array: \n",
    "\n",
    "![nna-last-layer.png](attachment:nna-last-layer.png)\n",
    "\n",
    "\n",
    "because we only have 3 input neurons and 1 output neuron we need 3 weights connecting between them for the neural network to be fully connected"
   ]
  },
  {
   "cell_type": "code",
   "execution_count": 18,
   "id": "0a096a70",
   "metadata": {},
   "outputs": [],
   "source": [
    "# initialize the weights and biases\n",
    "W = np.random.normal(0, 1/3, (NEURONS, 1))\n",
    "b = np.random.normal(0, 1/3, (1))"
   ]
  },
  {
   "cell_type": "markdown",
   "id": "5d47ab35-6fe8-4fe2-bdda-85d970e810e3",
   "metadata": {},
   "source": [
    "## Training the Neural Network"
   ]
  },
  {
   "cell_type": "markdown",
   "id": "25b15b0c",
   "metadata": {},
   "source": [
    "### steps in this simple neural network:\n",
    "- W is our vector of weights.\n",
    "- b is our vector of biases (in our case only a single bias).\n",
    "- X is the data vector.\n",
    "\n",
    "### proof for backpropagation\n",
    "For the proof we will take a look at a generic example for an $l$ layered network,  \\\n",
    "where $a^{(l)}_j$ is our j'th neuron in layer $l$, $w^{(l)}_{ij}$ is some weight going from a neuron $a^{(l - 1)}_i$ to the neuron  $a^{(l)}_j$ \\\n",
    "and $z^{(l)}_j$ is some $z$ that when passed through a sigmoid results in $a^{(l)}_j$ \n",
    "\n",
    "$\n",
    "\\\\[10mm]\n",
    "$\n",
    "\n",
    "#### propagating forwards:\n",
    "$\n",
    "    z^{(l)}_j = w^{(l)}_{1j}a^{(l - 1)}_1 + w^{(l)}_{2j}a^{(l - 1)}_2 + ... + w^{(l)}_{nj}a^{(l - 1)}_n + b^{(l)}_{j} =\\displaystyle(\\sum_{j=1}^n w^{(l)}_{ij}a^{(l - 1)}_i) +  b^{(l)}_{j}  \\\\\n",
    "    y\\ prediction = a^{(l)}_j = \\sigma(z^{(l)}_j)\n",
    "$\n",
    "\n",
    "$\n",
    "\\\\[10mm]\n",
    "$\n",
    "\n",
    "#### propagating backwards:\n",
    "We will define y prediction as $a^{(l)}_i$. I will provide a proof for some $a^{(l)}_j$ and $w^{(l)}_{ij}$ and later substitute them for our indices, and for a general summation in the code.\\\n",
    "Initially we define our loss function, and chain rule: \\\n",
    "$\n",
    "    Loss = \\displaystyle\\frac{1}{2n} \\cdot \\sum_{j=1}^n (a^{(l)}_j - y_j) ^ 2 \\\\\n",
    "    \\displaystyle\\frac{\\partial{Loss}}{\\partial{w^{(l)}_{ij}}} = \\textcolor{yellow}{\\frac{\\partial{Loss}}{\\partial{a^{(l)}_j}}}\\cdot\\textcolor{cyan}{\\frac{\\partial{a^{(l)}_j}}{\\partial{z^{(l)}_j}}}\\cdot\\textcolor{lightgreen}{\\frac{\\partial{z^{(l)}_j}}{\\partial{w^{(l)}_{ij}}}}\n",
    "$\\\n",
    "\\\n",
    "now, lets differentiate each element by himself: \n",
    "$\n",
    "\\\\[1.5mm]\n",
    "    \\displaystyle\n",
    "    \\frac{\\partial{z^{(l)}_j}}{\\partial{w^{(l)}_{ij}}} = a^{(l - 1)}_i \\ \\ \\ \\ \\text{(we can clearly see it from the formula for z)}\n",
    "\\\\[1.5mm]\n",
    "    \\frac{\\partial{a^{(l)}_j}}{\\partial{z^{(l)}_j}} = \\sigma'(z^{(l)}_j) = \\sigma(a^{(l)}_j)\\cdot(1 - \\sigma(a^{(l)}_j)) \\ \\ \\ \\  \\text{(we had proven this formula in our previous assignment)}\n",
    "\\\\[1.5mm]\n",
    "    \\frac{\\partial{Loss}}{\\partial{a^{(l)}_j}} = \\frac{\\partial{}}{\\partial{a^{(l)}_j}} \\frac{1}{2n} \\! \\sum_{k=1}^n (a^{(l)}_j - y_j) ^ 2 = \\frac{1}{2n} \\! \\sum_{k=1}^n \\frac{\\partial{}}{\\partial{a^{(l)}_j}}  (a^{(l)}_k - y_k) ^ 2 = \\frac{1}{2n} \\! \\frac{\\partial{}}{\\partial{a^{(l)}_j}}  (a^{(l)}_j - y_j) ^ 2 = \\frac{1}{n} (a^{(l)}_j - y_j)\n",
    "$\n",
    "\n",
    "and thus we get the the chain rule evaluates to: \n",
    "\n",
    "$\n",
    "     \\displaystyle\\frac{\\partial{Loss}}{\\partial{w^{(l)}_{ij}}} = \\textcolor{yellow}{\\frac{1}{n} (a^{(l)}_j - y_j)} \\cdot \\textcolor{cyan}{\\sigma(a^{(l)}_j)\\cdot(1 - \\sigma(a^{(l)}_j))} \\cdot \\textcolor{lightgreen}{a^{(l - 1)}_i}\n",
    "$\n",
    "\n",
    "For the biases it is pretty much the same chain rule and simplification, only differing in the last element. \\\n",
    "$\n",
    " \\displaystyle\\frac{\\partial{Loss}}{\\partial{b^{(l)}_{j}}} = \\textcolor{yellow}{\\frac{\\partial{Loss}}{\\partial{a^{(l)}_j}}}\\cdot\\textcolor{cyan}{\\frac{\\partial{a^{(l)}_j}}{\\partial{z^{(l)}_j}}}\\cdot\\textcolor{lightgreen}{\\frac{\\partial{z^{(l)}_j}}{\\partial{b^{(l)}_{j}}}} \\\\\n",
    " \\text{with  } {\\frac{\\partial{z^{(l)}_j}}{\\partial{b^{(l)}_{j}}}} \\ \\  \\text{being:}  \\\\\n",
    " \\frac{\\partial{z^{(l)}_j}}{\\partial{b^{(l)}_{j}}} = 1 \\ \\ \\ \\  \\text{(we can clearly see it from our formula of z)}\n",
    "$ \\\n",
    "such that we end up with: \\\n",
    "$\n",
    "  \\displaystyle\\frac{\\partial{Loss}}{\\partial{b^{(l)}_{j}}} = \\textcolor{yellow}{\\frac{1}{n} (a^{(l)}_j - y_j)} \\cdot \\textcolor{cyan}{\\sigma(a^{(l)}_j)\\cdot(1 - \\sigma(a^{(l)}_j))} \\cdot \\textcolor{lightgreen}{1}\n",
    "$\n",
    "\n",
    "now we just repeat it for every weight and bias there is in layer l, after that we just subtract every weight with its derivative (gradient descent) and repeat it for X steps. \\\n",
    "also, because we have only 1 set of weights (2 layered network), we dont have to derive the formula backwards even more and this will suffice.\n",
    "\n",
    "$\n",
    "\\left\\{\n",
    "\\begin{aligned}\n",
    "\\ \\    w^{(l)}_{ij} &= w^{(l)}_{ij} - t \\cdot \\displaystyle\\frac{\\partial{Loss}}{\\partial{w^{(l)}_{ij}}} \\\\\n",
    "\\ \\    b^{(l)}_{j} &= b^{(l)}_{j} - t \\cdot \\displaystyle\\frac{\\partial{Loss}}{\\partial{b^{(l)}_{j}}}\n",
    "\\end{aligned} \\!\n",
    "\\right.\n",
    "$"
   ]
  },
  {
   "cell_type": "code",
   "execution_count": null,
   "id": "eb67981e",
   "metadata": {},
   "outputs": [],
   "source": [
    "size = y.shape[0]\n",
    "for _ in range(LEANING_STEPS):\n",
    "    y_pred = sigmoid(X@W + b)\n",
    "    \n",
    "    loss = (1 / size) * (y_pred - y)\n",
    "    dW = X.T@(loss * sigmoid_derivative(y_pred))\n",
    "    db = (loss * sigmoid_derivative(y_pred)).sum()\n",
    "    W -= LEARNING_RATE * dW\n",
    "    b -= LEARNING_RATE * db"
   ]
  },
  {
   "cell_type": "code",
   "execution_count": 16,
   "id": "c2a131ee",
   "metadata": {},
   "outputs": [
    {
     "name": "stdout",
     "output_type": "stream",
     "text": [
      "checking for X: [0 0 1] and y: [0] and the result: 0.2016488437275333\n",
      "checking for X: [0 1 1] and y: [0] and the result: 0.15758598428831863\n",
      "checking for X: [1 0 1] and y: [1] and the result: 0.8542722432154205\n",
      "checking for X: [1 1 1] and y: [1] and the result: 0.8127882253144211\n"
     ]
    }
   ],
   "source": [
    "for i in range(4):\n",
    "    print(f\"checking for X: {X[i]} and y: {y[i]} and the result:\", sigmoid(X[i]@W + b)[0])"
   ]
  }
 ],
 "metadata": {
  "kernelspec": {
   "display_name": "base",
   "language": "python",
   "name": "python3"
  },
  "language_info": {
   "codemirror_mode": {
    "name": "ipython",
    "version": 3
   },
   "file_extension": ".py",
   "mimetype": "text/x-python",
   "name": "python",
   "nbconvert_exporter": "python",
   "pygments_lexer": "ipython3",
   "version": "3.12.4"
  }
 },
 "nbformat": 4,
 "nbformat_minor": 5
}
