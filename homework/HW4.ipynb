{
  "cells": [
    {
      "cell_type": "markdown",
      "metadata": {
        "id": "Htm5D9RhL994"
      },
      "source": [
        "### Homework Assignment #4\n",
        "\n",
        "#### Question 1: Convolution Theorem\n",
        "\n",
        "**a. Convolution in Fourier Space**: Prove that the Fourier transform of the convolution of two functions $f$ and $g$, denoted as $\\mathcal{F}(f \\star g)$, equals the pointwise product of their Fourier transforms:  \n",
        "$$\n",
        "\\mathcal{F}(f \\star g) = \\mathcal{F}(f) \\cdot \\mathcal{F}(g).\n",
        "$$  \n",
        "Specify whether your proof is for continuous functions or discrete signals and clearly state any assumptions made.\n",
        "\n",
        "---\n",
        "\n",
        "#### Question 2: Properties of Convolution\n",
        "\n",
        "**a. Commutativity**: Prove that the convolution operation is commutative:  \n",
        "$$\n",
        "f \\star g = g \\star f.\n",
        "$$\n",
        "\n",
        "**b. Distributivity**: Prove the distributive property of convolution:  \n",
        "$$\n",
        "f \\star (\\alpha g + \\beta h) = \\alpha (f \\star g) + \\beta (f \\star h),\n",
        "$$  \n",
        "where $ \\alpha, \\beta \\in \\mathbb{R} $.\n",
        "\n",
        "**c. Shift Equivariance**: Prove that convolution is shift-invariant:  \n",
        "$$\n",
        "f(x) \\star g(x - d) = (f \\star g)(x - d).\n",
        "$$\n",
        "\n",
        "**d. Scaling Property**: Prove that if a function $ f(x) $ is scaled in its argument by a factor $ a > 0 $, then its convolution with a function $ g(x) $ satisfies:  \n",
        "$$\n",
        "f(ax) \\star g(ax) = \\frac{1}{a} \\big(f \\star g\\big)(ax).\n",
        "$$\n",
        "Clearly state any assumptions and steps in your proof.\n",
        "\n",
        "---\n",
        "\n",
        "#### Question 3: Derivative and Inverse of Convolution\n",
        "\n",
        "**a. Derivative of Convolution**: Derive the expression for the derivative of the convolution $ f(x) \\star g(x) $:  \n",
        "$$\n",
        "\\frac{d}{dx} \\big(f(x) \\star g(x)\\big).\n",
        "$$  \n",
        "Verify this property for specific functions of your choice, such as $ f(x) = e^{-x^2} $ and $ g(x) = \\sin(x) $.\n",
        "\n",
        "**b. Inverse of Convolution**: Discuss the conditions under which the convolution $ f(x) \\star g(x) $ can be inverted. Derive the theoretical framework for deconvolution or solving for $ f(x) $ or $ g(x) $ given their convolution.\n",
        "\n",
        "---\n",
        "\n",
        "#### Question 4 (Optional, Coding): Practical Verification of Convolution Properties\n",
        "\n",
        "**a. Implementation**: Implement the convolution operation using Python (e.g., PyTorch or NumPy) and verify the properties discussed in Question 2 for specific example functions $ f(x) $ and $ g(x) $.  \n",
        "\n",
        "**b. Fourier Transform Connection**: Use the Fourier transform to verify the convolution theorem numerically. Show that $ \\mathcal{F}(f \\star g) = \\mathcal{F}(f) \\cdot \\mathcal{F}(g) $ for your chosen functions $ f(x) $ and $ g(x) $.\n",
        "\n",
        "**c. Applications**: Briefly explain how these properties are utilized in convolutional neural networks (CNNs)."
      ]
    },
    {
      "cell_type": "markdown",
      "metadata": {},
      "source": [
        "# Question 1\n",
        "### Fourier transform of convolution\n",
        "\n",
        "$\n",
        "\\displaystyle\n",
        "\\mathcal{F}((f \\star g)(x)) = \\int_{-\\infty}^\\infty (f \\star g)(x) \\cdot e^{-2\\pi i ux}\\, dx = \\int_{-\\infty}^\\infty (\\int_{-\\infty}^\\infty f(\\tau)g(x - \\tau) \\, d\\tau) \\cdot e^{-2\\pi i ux}\\, dx = \\\\\n",
        "\\int_{-\\infty}^\\infty f(\\tau) (\\int_{-\\infty}^\\infty g(x - \\tau)e^{-2\\pi i ux}\\, dx) \\, d\\tau =\n",
        "\\begin{array}{|l|}\n",
        "\\tilde{x} = x - \\tau \\\\\n",
        "d\\tilde{x} = dx \\\\\n",
        "\\end{array} = \\int_{-\\infty}^\\infty f(\\tau) (\\int_{-\\infty}^\\infty g(\\tilde{x})e^{-2\\pi i u (\\tilde{x} + \\tau)}\\, d\\tilde{x}) \\, d\\tau = \\\\\n",
        "\\int_{-\\infty}^\\infty f(\\tau)e^{-2\\pi i u \\tau} (\\int_{-\\infty}^\\infty g(\\tilde{x})e^{-2\\pi i u \\tilde{x}}\\, d\\tilde{x}) \\, d\\tau = \\mathcal{F}(f) \\cdot \\mathcal{F}(g)\n",
        "$\n",
        "\n",
        "we of course assume that the fourier transform of both functions exist, and that they are continues. \\\n",
        "we also assume that we can change the order of integration."
      ]
    },
    {
      "cell_type": "markdown",
      "metadata": {},
      "source": [
        "# Question 2\n",
        "### commutativity\n",
        "$\n",
        "\\displaystyle\n",
        "(f \\star g)(t) = \\int_{-\\infty}^\\infty f(\\tau) g(t - \\tau) \\, d\\tau = \\begin{array}{|rl|}\n",
        "\\tilde{\\tau} = t - \\tau \\\\\n",
        "d\\tilde{\\tau} = -d\\tau \\\\\n",
        "\\end{array} = -\\int_{\\infty}^{-\\infty} g(\\tilde{\\tau}) f(t - \\tilde{\\tau}) \\, d\\tilde{\\tau} = \\int_{-\\infty}^{\\infty} g(\\tilde{\\tau}) f(t - \\tilde{\\tau}) \\, d\\tilde{\\tau} = (g \\star f)(t) \n",
        "$"
      ]
    },
    {
      "cell_type": "markdown",
      "metadata": {},
      "source": [
        "### distributivity\n",
        "$\n",
        "\\displaystyle\n",
        "(f \\star (\\alpha g + \\beta h))(t) = \\int_{-\\infty}^\\infty f(\\tau) \\cdot (\\alpha g + \\beta h)(t - \\tau) \\, d\\tau = \n",
        "\\int_{-\\infty}^\\infty \\alpha f(\\tau)g(t - \\tau) + \\beta f(\\tau)h(t - \\tau) \\, d\\tau = \\\\\n",
        "\\alpha\\int_{-\\infty}^\\infty f(\\tau)g(t - \\tau) \\, d\\tau + \\beta \\int_{-\\infty}^\\infty f(\\tau)h(t - \\tau) \\, d\\tau = \n",
        "\\alpha (f \\star g)(t) + \\beta (f \\star h)(t)\n",
        "$"
      ]
    },
    {
      "cell_type": "markdown",
      "metadata": {},
      "source": [
        "### Shift Equivariance\n",
        "#### proof by definition: \n",
        "$\n",
        "\\displaystyle\n",
        "f(x) \\star g(x - d) = \\int_{-\\infty}^\\infty f(a\\tau)g((x - d) - \\tau) \\, d\\tau\n",
        "$ \\\n",
        "$\n",
        "\\displaystyle\n",
        "(f \\star g)(x - d) = \\int_{-\\infty}^\\infty f(a\\tau)g(x - d - \\tau) \\, d\\tau \n",
        "$\n",
        "\n",
        "therefore:\n",
        "\n",
        "$\n",
        "f(x) \\star g(x - d) = (f \\star g)(x - d)\n",
        "$"
      ]
    },
    {
      "cell_type": "markdown",
      "metadata": {},
      "source": [
        "### scaling property\n",
        "$\n",
        "\\displaystyle\n",
        "f(ax) \\star g(ax) = \\int_{-\\infty}^\\infty f(a\\tau)g(a(x-\\tau)) \\, d\\tau = \\int_{-\\infty}^\\infty f(a\\tau)g(ax-a\\tau) \\, d\\tau = \\begin{array}{|c|}\n",
        "\\tilde{\\tau} = a\\tau \\\\\n",
        "d\\tilde{\\tau} = ad\\tau \\Rightarrow \\displaystyle\\frac{d\\tilde{\\tau}}{a} = d\\tau \\\\\n",
        "\\end{array} = \\int_{-\\infty}^\\infty f(\\tilde{\\tau})g(ax-\\tilde{\\tau}) \\, \\displaystyle\\frac{d\\tilde{\\tau}}{a} =\\\\\n",
        "\\frac{1}{a}\\int_{-\\infty}^\\infty f(\\tilde{\\tau})g(ax-\\tilde{\\tau}) \\, d\\tilde{\\tau} = (f \\star g)(ax)\n",
        "$"
      ]
    },
    {
      "cell_type": "markdown",
      "metadata": {},
      "source": [
        "# Question 3\n",
        "\n",
        "$\n",
        "\\displaystyle\n",
        "\\frac{d}{dx} \\big(f(x) \\star g(x)\\big) = \\frac{d}{dx} \\int_{-\\infty}^\\infty f(\\tau)g(x - \\tau) \\, d\\tau\n",
        "$\\\n",
        "Because we integrate over $d\\tau$ and not $x$ we can apply the Leibniz integral rule to move the derivation into the integral. \\\n",
        "However, as this integral is indeterminate we have to assume that $g(x)$ and $g'(x)$ converges uniformly as $x \\to \\pm \\infty$ \\\n",
        "Now lets continue.\n",
        "\n",
        "$\n",
        "\\displaystyle\n",
        "\\frac{d}{dx} \\int_{-\\infty}^\\infty f(\\tau)g(x - \\tau) \\, d\\tau = \\int_{-\\infty}^\\infty f(\\tau) \\cdot \\frac{\\partial}{\\partial x}g(x - \\tau) \\, d\\tau = \\int_{-\\infty}^\\infty f(\\tau) \\cdot g'(x - \\tau) \\, d\\tau = (f \\star g')(x)\n",
        "$\n",
        "\n",
        "same for:\\\n",
        "$\n",
        "\\displaystyle\n",
        "\\frac{d}{dx} \\big(g(x) \\star f(x)) = \\int_{-\\infty}^\\infty g(\\tau) \\cdot \\frac{\\partial}{\\partial x}f(x - \\tau) \\, d\\tau = \\int_{-\\infty}^\\infty g(\\tau) \\cdot f'(x - \\tau) \\, d\\tau = (g \\star f')(x)\n",
        "$\n",
        "\n",
        "as we have already proven the commutativity property, we can say that:\\\n",
        "$\n",
        "\\displaystyle\n",
        "\\frac{d}{dx} \\big(g(x) \\star f(x)) = \\frac{d}{dx} \\big(f(x) \\star g(x)\\big)  \\Rightarrow (f \\star g')(x) = (f' \\star g)(x)\n",
        "$\n",
        "\n",
        "### inverse of convolution:\n",
        "lets assume we have the following convolution:\\\n",
        "$\n",
        "h(x) = (f \\star g)\n",
        "$\\\n",
        "now, we clearly know h and one of the functions (either $f$ or $g$, but because convolution is commutative it doesn't matter which one) and we want to calculate the other one.\\\n",
        "lets assume we want to find $f$.\\\n",
        "for that we assume that we can take the Fourier Transform of each function. \\\n",
        "$\n",
        "\\displaystyle\n",
        "\\mathcal{F}(h) = \\mathcal{F}(f) \\cdot \\mathcal{F}(g) \\Rightarrow \\mathcal{F}(f) = \\frac{\\mathcal{F}(g)}{\\mathcal{F}(h)} \n",
        "$\\\n",
        "and as such, $f$ is given to use by:\\\n",
        "$\n",
        "\\displaystyle\n",
        "f = \\mathcal{F^{-1}}(\\mathcal{F}(f)) = \\mathcal{F^{-1}}(\\frac{\\mathcal{F}(g)}{\\mathcal{F}(h)})\n",
        "$\n",
        "\n",
        "So, under which condition is this inverse possible?\n",
        "- f and g must be continues and absolutely integrable over the plane\n",
        "meaning: \\\n",
        "$\n",
        "\\displaystyle\n",
        "\\int_{-\\infty}^\\infty |f(x)| dx < \\infty\n",
        "$\n",
        "\n",
        "### example\n",
        "$f(x) = e^{-x^2}$ \\\n",
        "$g(x) = \\sin(x)$ \\\n",
        "$g'(x) = \\cos(x)$\n",
        "\n",
        "lets first compute the derivative of convolution: \\\n",
        "$\n",
        "\\displaystyle\n",
        "\\frac{d}{dx} \\big(f(x) \\star g(x)\\big) = \\frac{d}{dx} \\int_{-\\infty}^\\infty e^{-\\tau^2}sin(x - \\tau) \\, d\\tau = \\int_{-\\infty}^\\infty e^{-\\tau^2} \\frac{\\partial}{\\partial x} sin(x - \\tau) \\, d\\tau = \n",
        "\\int_{-\\infty}^\\infty e^{-\\tau^2} cos(x - \\tau) \\, d\\tau\n",
        "$\n",
        "\n",
        "lets now go from the other direction: \\\n",
        "$\n",
        "\\displaystyle\n",
        "\\big(f(x) \\star g'(x)\\big) = \\int_{-\\infty}^\\infty e^{-\\tau^2} \\cdot cos(x - \\tau) \\, d\\tau\n",
        "$\n",
        "\n",
        "we have gotten the same integral and so it is verified."
      ]
    },
    {
      "cell_type": "markdown",
      "metadata": {},
      "source": [
        "# Optional, Question 4"
      ]
    },
    {
      "cell_type": "code",
      "execution_count": 470,
      "metadata": {},
      "outputs": [],
      "source": [
        "# constants, functions and imports\n",
        "import numpy as np\n",
        "from matplotlib import pyplot as plt\n",
        "\n",
        "x = np.linspace(-50, 50, 100)\n",
        "f = np.exp(-x**2)\n",
        "g = np.sin(x)\n",
        "h = np.cos(x)\n",
        "\n",
        "alpha, beta = np.random.uniform(1, 5), np.random.uniform(1, 5)\n",
        "shift = int(np.random.uniform(1, 5))\n",
        "scale = int(np.random.uniform(1, 10))\n",
        "\n",
        "def difference(convolution1, convolution2):\n",
        "    return np.average(np.abs(convolution1) - np.abs(convolution2))"
      ]
    },
    {
      "cell_type": "code",
      "execution_count": 471,
      "metadata": {},
      "outputs": [
        {
          "name": "stdout",
          "output_type": "stream",
          "text": [
            "the difference between those two is:  4.996003610813204e-18\n"
          ]
        }
      ],
      "source": [
        "# commutativity\n",
        "convolution_f_g = np.convolve(f, g, mode='same')\n",
        "convolution_g_f = np.convolve(g, f, mode='same')\n",
        "print(\"the difference between those two is: \", difference(convolution_f_g, convolution_g_f))"
      ]
    },
    {
      "cell_type": "code",
      "execution_count": 472,
      "metadata": {},
      "outputs": [
        {
          "name": "stdout",
          "output_type": "stream",
          "text": [
            "the difference between those two is:  1.2212453270876723e-16\n"
          ]
        }
      ],
      "source": [
        "# distributivity\n",
        "conv_f_alpha_g_beta_h = np.convolve(f, alpha * g + beta * h, mode='same')\n",
        "convolution_f_h = np.convolve(f, h, mode='same')\n",
        "conv_alpha_fg_beta_fh = alpha * convolution_f_g + beta * convolution_f_h \n",
        "\n",
        "print(\"the difference between those two is: \", difference(conv_f_alpha_g_beta_h, conv_alpha_fg_beta_fh))"
      ]
    },
    {
      "cell_type": "code",
      "execution_count": 475,
      "metadata": {},
      "outputs": [
        {
          "name": "stdout",
          "output_type": "stream",
          "text": [
            "error: -0.12910368951480047\n"
          ]
        }
      ],
      "source": [
        "f_f = np.fft.fft(f)\n",
        "f_g = np.fft.fft(g)\n",
        "f_conv = np.fft.fft(convolution_f_g)\n",
        "\n",
        "# Compute the product of Fourier transforms\n",
        "f_product = f_f * f_g\n",
        "\n",
        "# Check equivalence\n",
        "print(f\"error: {difference(f_product, f_conv)}\")"
      ]
    }
  ],
  "metadata": {
    "colab": {
      "provenance": []
    },
    "kernelspec": {
      "display_name": "base",
      "language": "python",
      "name": "python3"
    },
    "language_info": {
      "codemirror_mode": {
        "name": "ipython",
        "version": 3
      },
      "file_extension": ".py",
      "mimetype": "text/x-python",
      "name": "python",
      "nbconvert_exporter": "python",
      "pygments_lexer": "ipython3",
      "version": "3.12.4"
    }
  },
  "nbformat": 4,
  "nbformat_minor": 0
}
